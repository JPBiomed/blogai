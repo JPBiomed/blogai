{
 "cells": [
  {
   "cell_type": "code",
   "execution_count": 4,
   "metadata": {},
   "outputs": [
    {
     "ename": "ModuleNotFoundError",
     "evalue": "No module named 'graphviz'",
     "output_type": "error",
     "traceback": [
      "\u001b[0;31m---------------------------------------------------------------------------\u001b[0m",
      "\u001b[0;31mModuleNotFoundError\u001b[0m                       Traceback (most recent call last)",
      "\u001b[0;32m<ipython-input-4-704e62f83599>\u001b[0m in \u001b[0;36m<module>\u001b[0;34m\u001b[0m\n\u001b[1;32m      4\u001b[0m \u001b[0;31m#hide\u001b[0m\u001b[0;34m\u001b[0m\u001b[0;34m\u001b[0m\u001b[0;34m\u001b[0m\u001b[0m\n\u001b[1;32m      5\u001b[0m \u001b[0;32mfrom\u001b[0m \u001b[0mfastbook\u001b[0m \u001b[0;32mimport\u001b[0m \u001b[0;34m*\u001b[0m\u001b[0;34m\u001b[0m\u001b[0;34m\u001b[0m\u001b[0m\n\u001b[0;32m----> 6\u001b[0;31m \u001b[0;32mimport\u001b[0m \u001b[0mgraphviz\u001b[0m \u001b[0;32mas\u001b[0m \u001b[0mgv\u001b[0m\u001b[0;34m\u001b[0m\u001b[0;34m\u001b[0m\u001b[0m\n\u001b[0m",
      "\u001b[0;31mModuleNotFoundError\u001b[0m: No module named 'graphviz'"
     ]
    }
   ],
   "source": [
    "import ipywidgets as widgets\n",
    "import fastbook\n",
    "fastbook.setup_book()\n",
    "#hide\n",
    "from fastbook import *\n",
    "import graphviz as gv"
   ]
  },
  {
   "cell_type": "markdown",
   "metadata": {},
   "source": [
    "# Apprendre avec Fast AI\n",
    "\n",
    "J'ai toujours voulu résoudre des problèmes et comprendre comment les choses marchent. Aujourd'hui, beaucoup de problèmes dans le monde de la santé, sont liés au manque de ressources humaines pour donner une réponse au patient.\n",
    "\n",
    "Pour répondre à cela, je veux apprendre et devenir compétent en Deep Learning.\n",
    "Pour apprendre, je commencerai par développer des petits projets et quand je gererai mieux les outils, je développerai un vrai outil utilisable.\n",
    "\n",
    "Je publierai chaque jour pour les deux prochaines semaines un post de blog pour que vous puissiez me suivre dans mon apprentissage et que vous puissiez apprendre avec moi.\n",
    "\n",
    "Je suivrai l'excellent cours de Jérémy Howard et de fast.ai que vous pouvez trouvez ici : https://www.fast.ai/\n",
    "\n",
    "Le cours est gratuit, donc n'hésitez pas à vous lancer dès aujourd'hui !\n",
    "Et si vous êtes intéressé mais que vous avez encore des questions, écrivez moi, je me ferai un plaisir de répondre à vos questions : jason.pettiaux@gmail.com"
   ]
  },
  {
   "cell_type": "markdown",
   "metadata": {},
   "source": [
    "## Les bases\n",
    "\n",
    "### Le problème : apprendre à un ordinateur\n",
    "\n",
    "Le deeplearning permet qu'un ordinateur apprenne tout seul à analyser des données. Cela peut donc permettre d'apprendre à un ordinateur de reconnaître un chat alors que un humain aurait énormément de difficultés à lui expliquer comment le reconnaître.\n",
    "\n",
    "Par exemple, si je vous demande de décrire un chat comme celui-ci, que diriez-vous ?\n",
    "<img alt=\"Chat\" width=\"200\" caption=\"Image d'un chat\"  src=\"https://www.wanimo.com/veterinaire/wp-content/uploads/2017/04/images_articles_chat_chat-pubert@2x.jpg\">\n",
    "\n",
    "On pourrait dire que :\n",
    "* il a des pattes\n",
    "* il a des poils\n",
    "* il a des oreilles qui dépassent de sa tête\n",
    "* il a une queue\n",
    "* ...\n",
    "\n",
    "Cette définition fait déjà appel à d'autres concepts (pattes, poils, oreilles, tête, queue, ...) qu'ils faudraient également expliquer à l'ordinateur mais en plus de cela, cette définition pourrait très bien s'appliquer à cette image-ci :\n",
    "<img alt=\"Chien\" width=\"200\" caption=\"Image d'un chien\" src=\"https://www.wanimo.com/veterinaire/wp-content/uploads/2011/04/images_articles_chien_bouvier-assis@2x.jpg\">\n",
    "\n",
    "Au final, il se trouve que tout expliquer à un ordinateur est impossible et que donc il est plus pratique qu'il apprenne tout seul."
   ]
  },
  {
   "cell_type": "markdown",
   "metadata": {},
   "source": [
    "### Le deeplearning : de la mémoire et une méthode\n",
    "\n",
    "Faire quelque chose, on l'appelera une capacité. Une capacité sera donc par exemple de reconnaître un chat. \n",
    "\n",
    "Pour apprendre, un ordinateur a besoin d'une méthode d'apprentissage qu'on verra au fur et à mesure. C'est l'architecture du réseau de neurones et la méthode de modification des paramètres, ensemble c'est un modèle.\n",
    "Chez nous les humains, on l'appelle le cerveau. L'architecture c'est notre anatomie et les connexions entre nos neurones. Chacun en a un différent et c'est pour ça que certains apprennent plus vite que d'autres, retiennent plus longtemps. Mais chacun a des compétences différentes, certains seront fort en maths, d'autres en sports, en musique ou comprendront mieux les émotions des autres.\n",
    "\n",
    "De la même manière, certaines architectures sont plus appropriées pour certaines tâches que pour d'autres.\n",
    "\n",
    "Pour retenir ce qu'il apprend, il utilisera des milliers ou millions de paramètres, qui lui permettront d'analyser ce qu'il voit à chaque étape. L'ordinateur modifie les paramètres pour se rapprocher de la bonne réponse. \n",
    "\n",
    "Chaque paramètre est un élément du modèle et trouve sa place dans l'architecture utilisée. Un ensemble de paramètres pourra être optimal pour une application spécifique (ex: différencier les chats et les chiens, détecter la présence ou l'absence de caries sur un radio dentaire, ...) mais ne fonctionnera pas comme cela pour une autre application. Par contre, une architecture peut être utilisée pour plusieurs applications différentes mais devra être adaptées\n",
    "\n",
    "Et pour finir, il faut du matériel à étudier : les données.\n",
    "\n",
    "Les données, c'est un peu le livre d'étude de l'ordinateur, c'est là cela sa source d'informations alors évidemment plus il en a plus il a de grandes capacités\n",
    "\n",
    "Mais l'important c'est que ces données soient annotées, en effet, l'ordinateur doit savoir ce qu'il cherche"
   ]
  },
  {
   "cell_type": "code",
   "execution_count": 1,
   "metadata": {},
   "outputs": [
    {
     "ename": "NameError",
     "evalue": "name 'gv' is not defined",
     "output_type": "error",
     "traceback": [
      "\u001b[0;31m---------------------------------------------------------------------------\u001b[0m",
      "\u001b[0;31mNameError\u001b[0m                                 Traceback (most recent call last)",
      "\u001b[0;32m<ipython-input-1-92956a06600f>\u001b[0m in \u001b[0;36m<module>\u001b[0;34m\u001b[0m\n\u001b[0;32m----> 1\u001b[0;31m gv('''\"Architecture et Methode d'Apprentissage\"[shape=box3d width=1 height=0.7]\n\u001b[0m\u001b[1;32m      2\u001b[0m Données->\"Architecture et Methode d'Apprentissage\"-> Capacité''')\n",
      "\u001b[0;31mNameError\u001b[0m: name 'gv' is not defined"
     ]
    }
   ],
   "source": [
    "gv('''\"Architecture et Methode d'Apprentissage\"[shape=box3d width=1 height=0.7]\n",
    "Données->\"Architecture et Methode d'Apprentissage\"-> Capacité''')"
   ]
  },
  {
   "cell_type": "code",
   "execution_count": 26,
   "metadata": {},
   "outputs": [
    {
     "data": {
      "image/svg+xml": [
       "<?xml version=\"1.0\" encoding=\"UTF-8\" standalone=\"no\"?>\n",
       "<!DOCTYPE svg PUBLIC \"-//W3C//DTD SVG 1.1//EN\"\n",
       " \"http://www.w3.org/Graphics/SVG/1.1/DTD/svg11.dtd\">\n",
       "<!-- Generated by graphviz version 2.42.3 (20191010.1750)\n",
       " -->\n",
       "<!-- Title: G Pages: 1 -->\n",
       "<svg width=\"512pt\" height=\"58pt\"\n",
       " viewBox=\"0.00 0.00 511.67 58.00\" xmlns=\"http://www.w3.org/2000/svg\" xmlns:xlink=\"http://www.w3.org/1999/xlink\">\n",
       "<g id=\"graph0\" class=\"graph\" transform=\"scale(1 1) rotate(0) translate(4 54)\">\n",
       "<title>G</title>\n",
       "<polygon fill=\"white\" stroke=\"transparent\" points=\"-4,4 -4,-54 507.67,-54 507.67,4 -4,4\"/>\n",
       "<!-- Cerveau humain -->\n",
       "<g id=\"node1\" class=\"node\">\n",
       "<title>Cerveau humain</title>\n",
       "<polygon fill=\"none\" stroke=\"black\" points=\"363.68,-50 233.68,-50 229.68,-46 229.68,0 359.68,0 363.68,-4 363.68,-50\"/>\n",
       "<polyline fill=\"none\" stroke=\"black\" points=\"359.68,-46 229.68,-46 \"/>\n",
       "<polyline fill=\"none\" stroke=\"black\" points=\"359.68,-46 359.68,0 \"/>\n",
       "<polyline fill=\"none\" stroke=\"black\" points=\"359.68,-46 363.68,-50 \"/>\n",
       "<text text-anchor=\"middle\" x=\"296.68\" y=\"-21.3\" font-family=\"Times,serif\" font-size=\"14.00\">Cerveau humain</text>\n",
       "</g>\n",
       "<!-- Capacité -->\n",
       "<g id=\"node3\" class=\"node\">\n",
       "<title>Capacité</title>\n",
       "<ellipse fill=\"none\" stroke=\"black\" cx=\"451.68\" cy=\"-25\" rx=\"51.99\" ry=\"18\"/>\n",
       "<text text-anchor=\"middle\" x=\"451.68\" y=\"-21.3\" font-family=\"Times,serif\" font-size=\"14.00\">Capacité</text>\n",
       "</g>\n",
       "<!-- Cerveau humain&#45;&gt;Capacité -->\n",
       "<g id=\"edge2\" class=\"edge\">\n",
       "<title>Cerveau humain&#45;&gt;Capacité</title>\n",
       "<path fill=\"none\" stroke=\"black\" d=\"M363.9,-25C372.4,-25 381.07,-25 389.48,-25\"/>\n",
       "<polygon fill=\"black\" stroke=\"black\" points=\"389.58,-28.5 399.58,-25 389.58,-21.5 389.58,-28.5\"/>\n",
       "</g>\n",
       "<!-- Livre de référence -->\n",
       "<g id=\"node2\" class=\"node\">\n",
       "<title>Livre de référence</title>\n",
       "<ellipse fill=\"none\" stroke=\"black\" cx=\"96.84\" cy=\"-25\" rx=\"96.68\" ry=\"18\"/>\n",
       "<text text-anchor=\"middle\" x=\"96.84\" y=\"-21.3\" font-family=\"Times,serif\" font-size=\"14.00\">Livre de référence</text>\n",
       "</g>\n",
       "<!-- Livre de référence&#45;&gt;Cerveau humain -->\n",
       "<g id=\"edge1\" class=\"edge\">\n",
       "<title>Livre de référence&#45;&gt;Cerveau humain</title>\n",
       "<path fill=\"none\" stroke=\"black\" d=\"M193.86,-25C202.47,-25 211.11,-25 219.52,-25\"/>\n",
       "<polygon fill=\"black\" stroke=\"black\" points=\"219.64,-28.5 229.64,-25 219.64,-21.5 219.64,-28.5\"/>\n",
       "</g>\n",
       "</g>\n",
       "</svg>\n"
      ],
      "text/plain": [
       "<graphviz.files.Source at 0x7f4c2c5ab8b0>"
      ]
     },
     "execution_count": 26,
     "metadata": {},
     "output_type": "execute_result"
    }
   ],
   "source": [
    "gv('''\"Cerveau humain\"[shape=box3d width=1 height=0.7]\n",
    "\"Livre de référence\"->\"Cerveau humain\"->Capacité''')"
   ]
  },
  {
   "cell_type": "code",
   "execution_count": null,
   "metadata": {},
   "outputs": [],
   "source": [
    "gv('''\"Cerveau humain\"[shape=box3d width=1 height=0.7]\n",
    "\"Livre de référence\"->\"Cerveau humain\"->Capacité''')"
   ]
  },
  {
   "cell_type": "markdown",
   "metadata": {},
   "source": [
    "### Comment ça marche ?\n",
    "\n",
    "Je vais résumer les choses. Si vous voulez comprendre dans le détail, je vous recommande d'aller suivre le cours directement (https://course.fast.ai).\n",
    "\n",
    "En gros, le deep learning se base sur le fait qu'avec beaucoup de petits éléments très simples mais avec beaucoup d'interconnexion, il y a moyen de tout apprendre.\n",
    "\n",
    "On appelle ces éléments des neurones. Il sont tous simples parce que pour la plupart, il font une somme pondérée de tous les neurones auxquels ils sont connectés.\n",
    "\n",
    "Une somme pondérée c'est par exemple, un ticket de caisse au supermarché, on additione le nombre d'articles multipliés par le prix de chaque article.\n",
    "\n",
    "Ensuite, si on modifie ces paramètres, on pourra apprendre ce que l'on veut.\n",
    "\n",
    "Pour augmenter le niveau d'abstraction, c'est-à-dire permettre à l'ordinateur d'apprendre des choses de plus en plus complexes, on augmentera le nombre de niveau.\n",
    "\n",
    "Un réseau de neurones de convolution peut être vu comme ceci.\n",
    "<img alt=\"CNN\" width=\"800\" caption=\"Convolutionnal Neural Network\" id=\"splunk\" src=\"https://miro.medium.com/max/2510/1*vkQ0hXDaQv57sALXAJquxA.jpeg\">\n",
    "\n",
    "À chaque niveau, on détecte des caractéristiques plus complexes:\n",
    "1. Aux premiers niveaux, elles sont très simples, lignes obliques à gauche, couleur unie, ligne horizontale, ...\n",
    "1. Aux niveaux intermédiaires, on voit apparaitre des combinaisons des premières caractéristiques: cercles, ...\n",
    "1. Aux derniers niveaux, on différencie des éléments très complexes : voitures, motos, vélo, visage, ...\n",
    "En fait, ces derniers niveaux sont également une combinaison des niveaux précédents. Un visage c'est un cercle avec des cercles pour les yeux, des lignes pour le nez, ...\n",
    "<img alt=\"CNN\" width=\"600\" caption=\"Interprétation des caractéristiques détectées par niveau\" id=\"splunk\" src=\"https://encrypted-tbn0.gstatic.com/images?q=tbn:ANd9GcQk0WGBJYVuy1im1rtcjwaFlAv6XuGhPKGz1Q&usqp=CAU\">\n"
   ]
  },
  {
   "cell_type": "markdown",
   "metadata": {},
   "source": [
    "### En analysant des images, on peut tout faire\n",
    "\n",
    "Ce qui est marrant, c'est que plein de gens ont réussi à exploiter des modèles d'analyses d'images pour détecter des virus informatiques ou bien analyser des sons ou autres. Et même mieux, ils ont obtenu des meilleurs résultats.\n",
    "\n",
    "Si ca vous intéresse, aller regarder le cours de Jérémy Howard !\n",
    "https://www.youtube.com/watch?v=BvHmRx14HQ8&t=1706s"
   ]
  },
  {
   "cell_type": "code",
   "execution_count": null,
   "metadata": {},
   "outputs": [],
   "source": []
  }
 ],
 "metadata": {
  "kernelspec": {
   "display_name": "Python 3",
   "language": "python",
   "name": "python3"
  },
  "language_info": {
   "codemirror_mode": {
    "name": "ipython",
    "version": 3
   },
   "file_extension": ".py",
   "mimetype": "text/x-python",
   "name": "python",
   "nbconvert_exporter": "python",
   "pygments_lexer": "ipython3",
   "version": "3.8.3"
  }
 },
 "nbformat": 4,
 "nbformat_minor": 4
}
